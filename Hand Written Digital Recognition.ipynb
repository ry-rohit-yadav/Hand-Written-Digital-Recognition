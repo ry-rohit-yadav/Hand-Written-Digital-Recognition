{
 "cells": [
  {
   "cell_type": "markdown",
   "id": "1f1d3b4c",
   "metadata": {},
   "source": [
    "# Import Library"
   ]
  },
  {
   "cell_type": "code",
   "execution_count": 1,
   "id": "57333756",
   "metadata": {},
   "outputs": [],
   "source": [
    "import tensorflow as tf\n",
    "import matplotlib.pyplot as plt\n",
    "import numpy as np\n",
    "\n"
   ]
  },
  {
   "cell_type": "markdown",
   "id": "b413ece2",
   "metadata": {},
   "source": [
    "## Loading dataset\n"
   ]
  },
  {
   "cell_type": "code",
   "execution_count": 2,
   "id": "0be9ae0f",
   "metadata": {},
   "outputs": [
    {
     "name": "stdout",
     "output_type": "stream",
     "text": [
      "<module 'keras.api._v2.keras.datasets.mnist' from 'C:\\\\Users\\\\yD\\\\Anaconda3\\\\lib\\\\site-packages\\\\keras\\\\api\\\\_v2\\\\keras\\\\datasets\\\\mnist\\\\__init__.py'>\n"
     ]
    }
   ],
   "source": [
    "mnist=tf.keras.datasets.mnist\n",
    "print(mnist)"
   ]
  },
  {
   "cell_type": "markdown",
   "id": "9d68993f",
   "metadata": {},
   "source": [
    "## After loading the Dataset, Divide them into Train and Test datasets"
   ]
  },
  {
   "cell_type": "code",
   "execution_count": 3,
   "id": "83dd4794",
   "metadata": {},
   "outputs": [],
   "source": [
    "(x_train,y_train),(x_test,y_test)=mnist.load_data()"
   ]
  },
  {
   "cell_type": "markdown",
   "id": "6c27274a",
   "metadata": {},
   "source": [
    "## x_train,x_test is represent the data \n",
    "\n",
    "## y_train,y_test is represent the label\n",
    "\n",
    "## Image size 28x28"
   ]
  },
  {
   "cell_type": "code",
   "execution_count": 4,
   "id": "be012b6f",
   "metadata": {},
   "outputs": [
    {
     "data": {
      "text/plain": [
       "((60000, 28, 28), (60000,), (10000, 28, 28), (10000,))"
      ]
     },
     "execution_count": 4,
     "metadata": {},
     "output_type": "execute_result"
    }
   ],
   "source": [
    "x_train.shape,y_train.shape,x_test.shape,y_test.shape\n"
   ]
  },
  {
   "cell_type": "code",
   "execution_count": 5,
   "id": "65f3bf9c",
   "metadata": {},
   "outputs": [
    {
     "data": {
      "image/png": "[encoded data removed]",
      "text/plain": [
       "<Figure size 432x288 with 1 Axes>"
      ]
     },
     "metadata": {
      "needs_background": "light"
     },
     "output_type": "display_data"
    }
   ],
   "source": [
    "plt.imshow(x_train[2])\n",
    "plt.show()\n"
   ]
  },
  {
   "cell_type": "code",
   "execution_count": 6,
   "id": "0aaf9812",
   "metadata": {},
   "outputs": [
    {
     "data": {
      "image/png": "[encoded data removed]",
      "text/plain": [
       "<Figure size 432x288 with 1 Axes>"
      ]
     },
     "metadata": {
      "needs_background": "light"
     },
     "output_type": "display_data"
    }
   ],
   "source": [
    "plt.imshow(x_train[2], cmap=plt.cm.binary)\n",
    "plt.show()"
   ]
  },
  {
   "cell_type": "markdown",
   "id": "431ffe53",
   "metadata": {},
   "source": []
  },
  {
   "cell_type": "markdown",
   "id": "22f2a8a3",
   "metadata": {},
   "source": [
    "# Before Normalization"
   ]
  },
  {
   "cell_type": "code",
   "execution_count": 7,
   "id": "dfd33596",
   "metadata": {},
   "outputs": [
    {
     "name": "stdout",
     "output_type": "stream",
     "text": [
      "[[  0   0   0   0   0   0   0   0   0   0   0   0   0   0   0   0   0   0\n",
      "    0   0   0   0   0   0   0   0   0   0]\n",
      " [  0   0   0   0   0   0   0   0   0   0   0   0   0   0   0   0   0   0\n",
      "    0   0   0   0   0   0   0   0   0   0]\n",
      " [  0   0   0   0   0   0   0   0   0   0   0   0   0   0   0   0   0   0\n",
      "    0   0   0   0   0   0   0   0   0   0]\n",
      " [  0   0   0   0   0   0   0   0   0   0   0   0   0   0   0   0   0   0\n",
      "    0   0   0   0   0   0   0   0   0   0]\n",
      " [  0   0   0   0   0   0   0   0   0   0   0   0   0   0   0   0   0   0\n",
      "    0   0   0   0   0   0   0   0   0   0]\n",
      " [  0   0   0   0   0   0   0   0   0   0   0   0   0   0   0   0   0   0\n",
      "    0   0  67 232  39   0   0   0   0   0]\n",
      " [  0   0   0   0  62  81   0   0   0   0   0   0   0   0   0   0   0   0\n",
      "    0   0 120 180  39   0   0   0   0   0]\n",
      " [  0   0   0   0 126 163   0   0   0   0   0   0   0   0   0   0   0   0\n",
      "    0   2 153 210  40   0   0   0   0   0]\n",
      " [  0   0   0   0 220 163   0   0   0   0   0   0   0   0   0   0   0   0\n",
      "    0  27 254 162   0   0   0   0   0   0]\n",
      " [  0   0   0   0 222 163   0   0   0   0   0   0   0   0   0   0   0   0\n",
      "    0 183 254 125   0   0   0   0   0   0]\n",
      " [  0   0   0  46 245 163   0   0   0   0   0   0   0   0   0   0   0   0\n",
      "    0 198 254  56   0   0   0   0   0   0]\n",
      " [  0   0   0 120 254 163   0   0   0   0   0   0   0   0   0   0   0   0\n",
      "   23 231 254  29   0   0   0   0   0   0]\n",
      " [  0   0   0 159 254 120   0   0   0   0   0   0   0   0   0   0   0   0\n",
      "  163 254 216  16   0   0   0   0   0   0]\n",
      " [  0   0   0 159 254  67   0   0   0   0   0   0   0   0   0  14  86 178\n",
      "  248 254  91   0   0   0   0   0   0   0]\n",
      " [  0   0   0 159 254  85   0   0   0  47  49 116 144 150 241 243 234 179\n",
      "  241 252  40   0   0   0   0   0   0   0]\n",
      " [  0   0   0 150 253 237 207 207 207 253 254 250 240 198 143  91  28   5\n",
      "  233 250   0   0   0   0   0   0   0   0]\n",
      " [  0   0   0   0 119 177 177 177 177 177  98  56   0   0   0   0   0 102\n",
      "  254 220   0   0   0   0   0   0   0   0]\n",
      " [  0   0   0   0   0   0   0   0   0   0   0   0   0   0   0   0   0 169\n",
      "  254 137   0   0   0   0   0   0   0   0]\n",
      " [  0   0   0   0   0   0   0   0   0   0   0   0   0   0   0   0   0 169\n",
      "  254  57   0   0   0   0   0   0   0   0]\n",
      " [  0   0   0   0   0   0   0   0   0   0   0   0   0   0   0   0   0 169\n",
      "  254  57   0   0   0   0   0   0   0   0]\n",
      " [  0   0   0   0   0   0   0   0   0   0   0   0   0   0   0   0   0 169\n",
      "  255  94   0   0   0   0   0   0   0   0]\n",
      " [  0   0   0   0   0   0   0   0   0   0   0   0   0   0   0   0   0 169\n",
      "  254  96   0   0   0   0   0   0   0   0]\n",
      " [  0   0   0   0   0   0   0   0   0   0   0   0   0   0   0   0   0 169\n",
      "  254 153   0   0   0   0   0   0   0   0]\n",
      " [  0   0   0   0   0   0   0   0   0   0   0   0   0   0   0   0   0 169\n",
      "  255 153   0   0   0   0   0   0   0   0]\n",
      " [  0   0   0   0   0   0   0   0   0   0   0   0   0   0   0   0   0  96\n",
      "  254 153   0   0   0   0   0   0   0   0]\n",
      " [  0   0   0   0   0   0   0   0   0   0   0   0   0   0   0   0   0   0\n",
      "    0   0   0   0   0   0   0   0   0   0]\n",
      " [  0   0   0   0   0   0   0   0   0   0   0   0   0   0   0   0   0   0\n",
      "    0   0   0   0   0   0   0   0   0   0]\n",
      " [  0   0   0   0   0   0   0   0   0   0   0   0   0   0   0   0   0   0\n",
      "    0   0   0   0   0   0   0   0   0   0]]\n"
     ]
    }
   ],
   "source": [
    "#Before Normalization all values between 0 to 255\n",
    "print(x_train[2])"
   ]
  },
  {
   "cell_type": "markdown",
   "id": "93743c01",
   "metadata": {},
   "source": [
    "# Normalization"
   ]
  },
  {
   "cell_type": "code",
   "execution_count": 8,
   "id": "306efade",
   "metadata": {},
   "outputs": [],
   "source": [
    "# Normalization is a pre-processing technique used to standardize data. \n",
    "\n",
    "# In other words, having different sources of data inside the same range. \n",
    "\n",
    "# Not normalizing the data before training can cause problems in our network. \n",
    "\n",
    "# Making it drastically harder to train and decrease its learning speed.\n",
    "\n",
    "# Normalization can also be done by x_train/255 and x_test/255."
   ]
  },
  {
   "cell_type": "code",
   "execution_count": 9,
   "id": "7aab1547",
   "metadata": {},
   "outputs": [
    {
     "data": {
      "text/plain": [
       "<matplotlib.image.AxesImage at 0x1bd9b895820>"
      ]
     },
     "execution_count": 9,
     "metadata": {},
     "output_type": "execute_result"
    },
    {
     "data": {
      "image/png": "[encoded data removed]",
      "text/plain": [
       "<Figure size 432x288 with 1 Axes>"
      ]
     },
     "metadata": {
      "needs_background": "light"
     },
     "output_type": "display_data"
    }
   ],
   "source": [
    "X_Train=tf.keras.utils.normalize(x_train)\n",
    "\n",
    "X_Test=tf.keras.utils.normalize(x_test)\n",
    "\n",
    "plt.imshow(x_train[0], cmap= plt.cm.binary)"
   ]
  },
  {
   "cell_type": "markdown",
   "id": "fe63e3df",
   "metadata": {},
   "source": [
    "# After Normalization"
   ]
  },
  {
   "cell_type": "code",
   "execution_count": 10,
   "id": "ee21f261",
   "metadata": {},
   "outputs": [],
   "source": [
    "# After Normalization all values between 0 to 1 "
   ]
  },
  {
   "cell_type": "code",
   "execution_count": 11,
   "id": "b04192e9",
   "metadata": {},
   "outputs": [
    {
     "name": "stdout",
     "output_type": "stream",
     "text": [
      "[[0.         0.         0.         0.         0.         0.\n",
      "  0.         0.         0.         0.         0.         0.\n",
      "  0.         0.         0.         0.         0.         0.\n",
      "  0.         0.         0.         0.         0.         0.\n",
      "  0.         0.         0.         0.        ]\n",
      " [0.         0.         0.         0.         0.         0.\n",
      "  0.         0.         0.         0.         0.         0.\n",
      "  0.         0.         0.         0.         0.         0.\n",
      "  0.         0.         0.         0.         0.         0.\n",
      "  0.         0.         0.         0.        ]\n",
      " [0.         0.         0.         0.         0.         0.\n",
      "  0.         0.         0.         0.         0.         0.\n",
      "  0.         0.         0.         0.         0.         0.\n",
      "  0.         0.         0.         0.         0.         0.\n",
      "  0.         0.         0.         0.        ]\n",
      " [0.         0.         0.         0.         0.         0.\n",
      "  0.         0.         0.         0.         0.         0.\n",
      "  0.         0.         0.         0.         0.         0.\n",
      "  0.         0.         0.         0.         0.         0.\n",
      "  0.         0.         0.         0.        ]\n",
      " [0.         0.         0.         0.         0.         0.\n",
      "  0.         0.         0.         0.         0.         0.\n",
      "  0.         0.         0.         0.         0.         0.\n",
      "  0.         0.         0.         0.         0.         0.\n",
      "  0.         0.         0.         0.        ]\n",
      " [0.         0.         0.         0.         0.         0.\n",
      "  0.         0.         0.         0.         0.         0.\n",
      "  0.         0.         0.         0.         0.         0.\n",
      "  0.         0.         0.27390552 0.94844896 0.15943754 0.\n",
      "  0.         0.         0.         0.        ]\n",
      " [0.         0.         0.         0.         0.25584473 0.33424876\n",
      "  0.         0.         0.         0.         0.         0.\n",
      "  0.         0.         0.         0.         0.         0.\n",
      "  0.         0.         0.49518335 0.74277503 0.16093459 0.\n",
      "  0.         0.         0.         0.        ]\n",
      " [0.         0.         0.         0.         0.37724213 0.48801958\n",
      "  0.         0.         0.         0.         0.         0.\n",
      "  0.         0.         0.         0.         0.         0.\n",
      "  0.         0.00598797 0.45807973 0.62873688 0.11975941 0.\n",
      "  0.         0.         0.         0.        ]\n",
      " [0.         0.         0.         0.         0.5392254  0.399517\n",
      "  0.         0.         0.         0.         0.         0.\n",
      "  0.         0.         0.         0.         0.         0.\n",
      "  0.         0.06617766 0.62256024 0.39706598 0.         0.\n",
      "  0.         0.         0.         0.        ]\n",
      " [0.         0.         0.         0.         0.50999727 0.37445745\n",
      "  0.         0.         0.         0.         0.         0.\n",
      "  0.         0.         0.         0.         0.         0.\n",
      "  0.         0.42040315 0.58351039 0.28716062 0.         0.\n",
      "  0.         0.         0.         0.        ]\n",
      " [0.         0.         0.         0.10401864 0.5540123  0.36858778\n",
      "  0.         0.         0.         0.         0.         0.\n",
      "  0.         0.         0.         0.         0.         0.\n",
      "  0.         0.44773239 0.57436377 0.12663138 0.         0.\n",
      "  0.         0.         0.         0.        ]\n",
      " [0.         0.         0.         0.25313301 0.53579821 0.34383901\n",
      "  0.         0.         0.         0.         0.         0.\n",
      "  0.         0.         0.         0.         0.         0.\n",
      "  0.04851716 0.48728105 0.53579821 0.06117381 0.         0.\n",
      "  0.         0.         0.         0.        ]\n",
      " [0.         0.         0.         0.32308399 0.51612159 0.24383697\n",
      "  0.         0.         0.         0.         0.         0.\n",
      "  0.         0.         0.         0.         0.         0.\n",
      "  0.33121189 0.51612159 0.43890655 0.0325116  0.         0.\n",
      "  0.         0.         0.         0.        ]\n",
      " [0.         0.         0.         0.30721383 0.49076926 0.12945488\n",
      "  0.         0.         0.         0.         0.         0.\n",
      "  0.         0.         0.         0.02705027 0.16616597 0.34392491\n",
      "  0.47917629 0.49076926 0.17582678 0.         0.         0.\n",
      "  0.         0.         0.         0.        ]\n",
      " [0.         0.         0.         0.22820814 0.36455892 0.12199806\n",
      "  0.         0.         0.         0.06745775 0.0703283  0.16649147\n",
      "  0.20667907 0.2152907  0.34590039 0.34877093 0.33585349 0.25691357\n",
      "  0.34590039 0.36168838 0.05741085 0.         0.         0.\n",
      "  0.         0.         0.         0.        ]\n",
      " [0.         0.         0.         0.17859902 0.30123701 0.28218645\n",
      "  0.24646665 0.24646665 0.24646665 0.30123701 0.30242767 0.29766503\n",
      "  0.28575843 0.23575071 0.1702644  0.10835007 0.03333848 0.0059533\n",
      "  0.27742381 0.29766503 0.         0.         0.         0.\n",
      "  0.         0.         0.         0.        ]\n",
      " [0.         0.         0.         0.         0.21481894 0.31952061\n",
      "  0.31952061 0.31952061 0.31952061 0.31952061 0.17690972 0.10109127\n",
      "  0.         0.         0.         0.         0.         0.18413052\n",
      "  0.45852111 0.39714426 0.         0.         0.         0.\n",
      "  0.         0.         0.         0.        ]\n",
      " [0.         0.         0.         0.         0.         0.\n",
      "  0.         0.         0.         0.         0.         0.\n",
      "  0.         0.         0.         0.         0.         0.50533162\n",
      "  0.7594925  0.40964753 0.         0.         0.         0.\n",
      "  0.         0.         0.         0.        ]\n",
      " [0.         0.         0.         0.         0.         0.\n",
      "  0.         0.         0.         0.         0.         0.\n",
      "  0.         0.         0.         0.         0.         0.54452139\n",
      "  0.81839309 0.18365514 0.         0.         0.         0.\n",
      "  0.         0.         0.         0.        ]\n",
      " [0.         0.         0.         0.         0.         0.\n",
      "  0.         0.         0.         0.         0.         0.\n",
      "  0.         0.         0.         0.         0.         0.54452139\n",
      "  0.81839309 0.18365514 0.         0.         0.         0.\n",
      "  0.         0.         0.         0.        ]\n",
      " [0.         0.         0.         0.         0.         0.\n",
      "  0.         0.         0.         0.         0.         0.\n",
      "  0.         0.         0.         0.         0.         0.52806828\n",
      "  0.79678941 0.29371845 0.         0.         0.         0.\n",
      "  0.         0.         0.         0.        ]\n",
      " [0.         0.         0.         0.         0.         0.\n",
      "  0.         0.         0.         0.         0.         0.\n",
      "  0.         0.         0.         0.         0.         0.52840114\n",
      "  0.79416503 0.30015686 0.         0.         0.         0.\n",
      "  0.         0.         0.         0.        ]\n",
      " [0.         0.         0.         0.         0.         0.\n",
      "  0.         0.         0.         0.         0.         0.\n",
      "  0.         0.         0.         0.         0.         0.49516488\n",
      "  0.74421231 0.44828537 0.         0.         0.         0.\n",
      "  0.         0.         0.         0.        ]\n",
      " [0.         0.         0.         0.         0.         0.\n",
      "  0.         0.         0.         0.         0.         0.\n",
      "  0.         0.         0.         0.         0.         0.49408658\n",
      "  0.74551525 0.44730915 0.         0.         0.         0.\n",
      "  0.         0.         0.         0.        ]\n",
      " [0.         0.         0.         0.         0.         0.\n",
      "  0.         0.         0.         0.         0.         0.\n",
      "  0.         0.         0.         0.         0.         0.30801364\n",
      "  0.81495275 0.49089674 0.         0.         0.         0.\n",
      "  0.         0.         0.         0.        ]\n",
      " [0.         0.         0.         0.         0.         0.\n",
      "  0.         0.         0.         0.         0.         0.\n",
      "  0.         0.         0.         0.         0.         0.\n",
      "  0.         0.         0.         0.         0.         0.\n",
      "  0.         0.         0.         0.        ]\n",
      " [0.         0.         0.         0.         0.         0.\n",
      "  0.         0.         0.         0.         0.         0.\n",
      "  0.         0.         0.         0.         0.         0.\n",
      "  0.         0.         0.         0.         0.         0.\n",
      "  0.         0.         0.         0.        ]\n",
      " [0.         0.         0.         0.         0.         0.\n",
      "  0.         0.         0.         0.         0.         0.\n",
      "  0.         0.         0.         0.         0.         0.\n",
      "  0.         0.         0.         0.         0.         0.\n",
      "  0.         0.         0.         0.        ]]\n"
     ]
    }
   ],
   "source": [
    "print(X_Train[2])"
   ]
  },
  {
   "cell_type": "markdown",
   "id": "13f17026",
   "metadata": {},
   "source": [
    "## Resizing the image"
   ]
  },
  {
   "cell_type": "code",
   "execution_count": 12,
   "id": "b1e4258b",
   "metadata": {},
   "outputs": [],
   "source": [
    "#Reshaping the array to 4-dims so that it can work with the Keras API(greyscale image )\n",
    "\n",
    "# Size of image is 28 x 28\n",
    "\n",
    "# -1 is used to increase by 1 dimension\n",
    "\n",
    "# Numpy is used to reshape \n",
    "\n",
    "\n",
    "\n",
    "X_Train=np.array(x_train).reshape(-1,28,28,1)\n",
    "X_Test=np.array(x_test).reshape(-1,28,28,1)"
   ]
  },
  {
   "cell_type": "markdown",
   "id": "7e126f0f",
   "metadata": {},
   "source": [
    "## Create Deep Neural Networks\n",
    "\n",
    "## Training 60,000 samples of handwritten dataset"
   ]
  },
  {
   "cell_type": "code",
   "execution_count": 13,
   "id": "166c62f6",
   "metadata": {},
   "outputs": [],
   "source": [
    "from tensorflow.keras.models import Sequential\n",
    "from tensorflow.keras.layers import Dense,Dropout,Activation,Flatten,Conv2D,MaxPooling2D\n"
   ]
  },
  {
   "cell_type": "code",
   "execution_count": 14,
   "id": "5168d1b5",
   "metadata": {},
   "outputs": [],
   "source": [
    "# Start neural network by using Sequential()\n",
    "\n",
    "model= Sequential()"
   ]
  },
  {
   "cell_type": "code",
   "execution_count": 15,
   "id": "477609f3",
   "metadata": {},
   "outputs": [],
   "source": [
    "# First Convolutional Layear \n",
    "\n",
    "model.add(Conv2D(64,(3,3),input_shape=X_Train.shape[1:]))\n",
    "model.add(Activation(\"relu\"))\n",
    "model.add(MaxPooling2D(pool_size=(2,2)))\n"
   ]
  },
  {
   "cell_type": "code",
   "execution_count": 16,
   "id": "d8b10ced",
   "metadata": {},
   "outputs": [],
   "source": [
    "# Second Convolutional Layear\n",
    "model.add(Conv2D(64,(3,3)))\n",
    "model.add(Activation(\"relu\"))\n",
    "model.add(MaxPooling2D(pool_size=(2,2)))\n"
   ]
  },
  {
   "cell_type": "code",
   "execution_count": 17,
   "id": "7c00b255",
   "metadata": {},
   "outputs": [],
   "source": [
    "\n",
    "# Third Convolutional Layear\n",
    "model.add(Conv2D(64,(3,3)))\n",
    "model.add(Activation(\"relu\"))\n",
    "model.add(MaxPooling2D(pool_size=(2,2)))"
   ]
  },
  {
   "cell_type": "code",
   "execution_count": 18,
   "id": "29a330e0",
   "metadata": {},
   "outputs": [],
   "source": [
    "# Fully Connected Layear 1\n",
    "\n",
    "model.add(Flatten())\n",
    "model.add(Dense(64))\n",
    "model.add(Activation(\"relu\"))"
   ]
  },
  {
   "cell_type": "code",
   "execution_count": 19,
   "id": "68fa8c52",
   "metadata": {},
   "outputs": [],
   "source": [
    "# Fully Connected Layear 2\n",
    "model.add(Dense(32))\n",
    "model.add(Activation(\"relu\"))"
   ]
  },
  {
   "cell_type": "code",
   "execution_count": 20,
   "id": "d9affb00",
   "metadata": {},
   "outputs": [],
   "source": [
    "# Fully Connected Layear 3\n",
    "\n",
    "model.add(Dense(16))\n",
    "model.add(Activation(\"relu\"))"
   ]
  },
  {
   "cell_type": "code",
   "execution_count": 21,
   "id": "defe3003",
   "metadata": {},
   "outputs": [],
   "source": [
    "# Last Fully Connected Layear \n",
    "\n",
    "# The softmax function is used as the activation function in the output layer of neural network models that predict a multinomial probability distribution.\n",
    "# That is, softmax is used as the activation function for multi-class classification problems where class membership is required on more than two class labels\n",
    "\n",
    "model.add(Dense(10))\n",
    "model.add(Activation(\"softmax\"))"
   ]
  },
  {
   "cell_type": "code",
   "execution_count": 22,
   "id": "55b7d6db",
   "metadata": {},
   "outputs": [
    {
     "name": "stdout",
     "output_type": "stream",
     "text": [
      "Model: \"sequential\"\n",
      "_________________________________________________________________\n",
      " Layer (type)                Output Shape              Param #   \n",
      "=================================================================\n",
      " conv2d (Conv2D)             (None, 26, 26, 64)        640       \n",
      "                                                                 \n",
      " activation (Activation)     (None, 26, 26, 64)        0         \n",
      "                                                                 \n",
      " max_pooling2d (MaxPooling2D  (None, 13, 13, 64)       0         \n",
      " )                                                               \n",
      "                                                                 \n",
      " conv2d_1 (Conv2D)           (None, 11, 11, 64)        36928     \n",
      "                                                                 \n",
      " activation_1 (Activation)   (None, 11, 11, 64)        0         \n",
      "                                                                 \n",
      " max_pooling2d_1 (MaxPooling  (None, 5, 5, 64)         0         \n",
      " 2D)                                                             \n",
      "                                                                 \n",
      " conv2d_2 (Conv2D)           (None, 3, 3, 64)          36928     \n",
      "                                                                 \n",
      " activation_2 (Activation)   (None, 3, 3, 64)          0         \n",
      "                                                                 \n",
      " max_pooling2d_2 (MaxPooling  (None, 1, 1, 64)         0         \n",
      " 2D)                                                             \n",
      "                                                                 \n",
      " flatten (Flatten)           (None, 64)                0         \n",
      "                                                                 \n",
      " dense (Dense)               (None, 64)                4160      \n",
      "                                                                 \n",
      " activation_3 (Activation)   (None, 64)                0         \n",
      "                                                                 \n",
      " dense_1 (Dense)             (None, 32)                2080      \n",
      "                                                                 \n",
      " activation_4 (Activation)   (None, 32)                0         \n",
      "                                                                 \n",
      " dense_2 (Dense)             (None, 16)                528       \n",
      "                                                                 \n",
      " activation_5 (Activation)   (None, 16)                0         \n",
      "                                                                 \n",
      " dense_3 (Dense)             (None, 10)                170       \n",
      "                                                                 \n",
      " activation_6 (Activation)   (None, 10)                0         \n",
      "                                                                 \n",
      "=================================================================\n",
      "Total params: 81,434\n",
      "Trainable params: 81,434\n",
      "Non-trainable params: 0\n",
      "_________________________________________________________________\n"
     ]
    }
   ],
   "source": [
    "model.summary()"
   ]
  },
  {
   "cell_type": "code",
   "execution_count": 23,
   "id": "66ce9d7e",
   "metadata": {},
   "outputs": [],
   "source": [
    "model.compile(loss=\"sparse_categorical_crossentropy\",optimizer=\"adam\", metrics=\"accuracy\")"
   ]
  },
  {
   "cell_type": "markdown",
   "id": "2efdb6b7",
   "metadata": {},
   "source": [
    "# Training Model"
   ]
  },
  {
   "cell_type": "code",
   "execution_count": 24,
   "id": "17815d05",
   "metadata": {},
   "outputs": [
    {
     "name": "stdout",
     "output_type": "stream",
     "text": [
      "Epoch 1/10\n",
      "1313/1313 [==============================] - 32s 24ms/step - loss: 0.5993 - accuracy: 0.8171 - val_loss: 0.1592 - val_accuracy: 0.9576\n",
      "Epoch 2/10\n",
      "1313/1313 [==============================] - 34s 26ms/step - loss: 0.1369 - accuracy: 0.9614 - val_loss: 0.1082 - val_accuracy: 0.9702\n",
      "Epoch 3/10\n",
      "1313/1313 [==============================] - 35s 27ms/step - loss: 0.0927 - accuracy: 0.9740 - val_loss: 0.1067 - val_accuracy: 0.9694\n",
      "Epoch 4/10\n",
      "1313/1313 [==============================] - 35s 26ms/step - loss: 0.0755 - accuracy: 0.9785 - val_loss: 0.0983 - val_accuracy: 0.9728\n",
      "Epoch 5/10\n",
      "1313/1313 [==============================] - 36s 28ms/step - loss: 0.0611 - accuracy: 0.9828 - val_loss: 0.0801 - val_accuracy: 0.9793\n",
      "Epoch 6/10\n",
      "1313/1313 [==============================] - 40s 31ms/step - loss: 0.0496 - accuracy: 0.9851 - val_loss: 0.1055 - val_accuracy: 0.9748\n",
      "Epoch 7/10\n",
      "1313/1313 [==============================] - 34s 26ms/step - loss: 0.0484 - accuracy: 0.9856 - val_loss: 0.0748 - val_accuracy: 0.9821\n",
      "Epoch 8/10\n",
      "1313/1313 [==============================] - 35s 27ms/step - loss: 0.0392 - accuracy: 0.9884 - val_loss: 0.0741 - val_accuracy: 0.9819\n",
      "Epoch 9/10\n",
      "1313/1313 [==============================] - 34s 26ms/step - loss: 0.0331 - accuracy: 0.9905 - val_loss: 0.0912 - val_accuracy: 0.9805\n",
      "Epoch 10/10\n",
      "1313/1313 [==============================] - 36s 28ms/step - loss: 0.0309 - accuracy: 0.9910 - val_loss: 0.0795 - val_accuracy: 0.9817\n"
     ]
    },
    {
     "data": {
      "text/plain": [
       "<keras.callbacks.History at 0x1bd9c27ecd0>"
      ]
     },
     "execution_count": 24,
     "metadata": {},
     "output_type": "execute_result"
    }
   ],
   "source": [
    "\n",
    "model.fit(X_Train,y_train,epochs=10,validation_split=0.3)\n"
   ]
  },
  {
   "cell_type": "code",
   "execution_count": 25,
   "id": "6156be1f",
   "metadata": {},
   "outputs": [
    {
     "name": "stdout",
     "output_type": "stream",
     "text": [
      "313/313 [==============================] - 2s 8ms/step - loss: 0.0751 - accuracy: 0.9815\n",
      "Test loss on 10,000 test samples 0.07512281835079193\n",
      "Validation accuracy on 10,000 test samples 0.9815000295639038\n"
     ]
    }
   ],
   "source": [
    "# Evaluating on testing data set MNIT\n",
    "test_loss,test_accuarcy=model.evaluate(X_Test,y_test)\n",
    "print(\"Test loss on 10,000 test samples\",test_loss)\n",
    "\n",
    "print(\"Validation accuracy on 10,000 test samples\",test_accuarcy)"
   ]
  },
  {
   "cell_type": "code",
   "execution_count": 26,
   "id": "65ef95ba",
   "metadata": {},
   "outputs": [],
   "source": [
    "prediction=model.predict(X_Test)"
   ]
  },
  {
   "cell_type": "code",
   "execution_count": 27,
   "id": "1760e500",
   "metadata": {},
   "outputs": [
    {
     "name": "stdout",
     "output_type": "stream",
     "text": [
      "[[4.2913801e-13 9.3200230e-09 8.1251283e-06 ... 9.9999189e-01\n",
      "  2.3413513e-08 2.1857410e-08]\n",
      " [5.0873826e-11 1.0185290e-07 9.9989414e-01 ... 8.4514875e-05\n",
      "  1.2566670e-06 2.5037794e-16]\n",
      " [1.9400438e-12 9.9999702e-01 2.0900698e-10 ... 1.1003044e-09\n",
      "  1.8166629e-07 3.2849112e-11]\n",
      " ...\n",
      " [3.5160285e-22 8.9691912e-35 7.6634379e-23 ... 0.0000000e+00\n",
      "  1.5196358e-18 2.5844592e-30]\n",
      " [5.1401481e-25 2.5663874e-15 9.0965473e-16 ... 1.0140422e-23\n",
      "  1.3378981e-11 1.6683961e-06]\n",
      " [1.4972705e-09 3.6003169e-21 7.1032251e-14 ... 3.5213394e-32\n",
      "  9.5809680e-12 2.8880821e-15]]\n"
     ]
    }
   ],
   "source": [
    "print(prediction)"
   ]
  },
  {
   "cell_type": "code",
   "execution_count": 28,
   "id": "fb604a16",
   "metadata": {},
   "outputs": [
    {
     "name": "stdout",
     "output_type": "stream",
     "text": [
      "7\n"
     ]
    }
   ],
   "source": [
    "print(np.argmax(prediction[0]))"
   ]
  },
  {
   "cell_type": "code",
   "execution_count": 29,
   "id": "3fb77170",
   "metadata": {},
   "outputs": [
    {
     "data": {
      "text/plain": [
       "<matplotlib.image.AxesImage at 0x1bd9d7bbeb0>"
      ]
     },
     "execution_count": 29,
     "metadata": {},
     "output_type": "execute_result"
    },
    {
     "data": {
      "image/png": "[encoded data removed]",
      "text/plain": [
       "<Figure size 432x288 with 1 Axes>"
      ]
     },
     "metadata": {
      "needs_background": "light"
     },
     "output_type": "display_data"
    }
   ],
   "source": [
    "# Check value is true or not \n",
    "plt.imshow(X_Test[0])"
   ]
  },
  {
   "cell_type": "markdown",
   "id": "c9bd10da",
   "metadata": {},
   "source": [
    "# Now try to check on our image"
   ]
  },
  {
   "cell_type": "code",
   "execution_count": 43,
   "id": "6ce77a2c",
   "metadata": {},
   "outputs": [],
   "source": [
    "# Try to check wheather it will able to predict on our image or not\n",
    "import cv2\n"
   ]
  },
  {
   "cell_type": "code",
   "execution_count": 45,
   "id": "2f3bc2f3",
   "metadata": {
    "scrolled": true
   },
   "outputs": [
    {
     "data": {
      "image/png": "[encoded data removed]",
      "text/plain": [
       "<Figure size 432x288 with 1 Axes>"
      ]
     },
     "metadata": {
      "needs_background": "light"
     },
     "output_type": "display_data"
    }
   ],
   "source": [
    "# read image\n",
    "\n",
    "img=cv2.imread(\"C:/Users/yD/Desktop/Eight.jpg\")\n",
    "\n",
    "plt.imshow(img)\n",
    "\n",
    "plt.show()\n"
   ]
  },
  {
   "cell_type": "code",
   "execution_count": 46,
   "id": "65c2fb92",
   "metadata": {},
   "outputs": [
    {
     "data": {
      "text/plain": [
       "(648, 1152, 3)"
      ]
     },
     "execution_count": 46,
     "metadata": {},
     "output_type": "execute_result"
    }
   ],
   "source": [
    "# check shape of your image\n",
    "img.shape"
   ]
  },
  {
   "cell_type": "code",
   "execution_count": 55,
   "id": "c892248e",
   "metadata": {},
   "outputs": [
    {
     "data": {
      "text/plain": [
       "(648, 1152)"
      ]
     },
     "execution_count": 55,
     "metadata": {},
     "output_type": "execute_result"
    },
    {
     "data": {
      "image/png": "[encoded data removed]",
      "text/plain": [
       "<Figure size 432x288 with 1 Axes>"
      ]
     },
     "metadata": {
      "needs_background": "light"
     },
     "output_type": "display_data"
    }
   ],
   "source": [
    "# image have 3 channel \n",
    "# First convert into grey image then resize in 28x28\n",
    "\n",
    "grey=cv2.cvtColor(img,cv2.COLOR_BGR2GRAY)\n",
    "\n",
    "plt.imshow(grey) \n",
    "\n",
    "grey.shape "
   ]
  },
  {
   "cell_type": "code",
   "execution_count": 57,
   "id": "4ea65e0d",
   "metadata": {},
   "outputs": [
    {
     "data": {
      "text/plain": [
       "(28, 28)"
      ]
     },
     "execution_count": 57,
     "metadata": {},
     "output_type": "execute_result"
    }
   ],
   "source": [
    "# Resize the image\n",
    "\n",
    "resizedImg=cv2.resize(grey,(28,28),interpolation=cv2.INTER_AREA)\n",
    "\n",
    "resizedImg.shape\n"
   ]
  },
  {
   "cell_type": "code",
   "execution_count": 58,
   "id": "38f4d7ea",
   "metadata": {},
   "outputs": [],
   "source": [
    "# Now normalize the image\n",
    "\n",
    "img1=tf.keras.utils.normalize(resizedImg)"
   ]
  },
  {
   "cell_type": "code",
   "execution_count": 64,
   "id": "3ef3a14f",
   "metadata": {},
   "outputs": [
    {
     "data": {
      "text/plain": [
       "(1, 28, 28, 1)"
      ]
     },
     "execution_count": 64,
     "metadata": {},
     "output_type": "execute_result"
    }
   ],
   "source": [
    "# Change dimension of an image\n",
    "img1=np.array(img1).reshape(-1,28,28,1)\n",
    "img1.shape"
   ]
  },
  {
   "cell_type": "code",
   "execution_count": 65,
   "id": "584a59bf",
   "metadata": {},
   "outputs": [],
   "source": [
    "# Select the Model\n",
    "prediction=model.predict(img1)"
   ]
  },
  {
   "cell_type": "code",
   "execution_count": 67,
   "id": "75d95b08",
   "metadata": {},
   "outputs": [
    {
     "name": "stdout",
     "output_type": "stream",
     "text": [
      "8\n"
     ]
    }
   ],
   "source": [
    "# Final prediction\n",
    "print(np.argmax(prediction))"
   ]
  },
  {
   "cell_type": "code",
   "execution_count": null,
   "id": "0559e452",
   "metadata": {},
   "outputs": [],
   "source": []
  }
 ],
 "metadata": {
  "kernelspec": {
   "display_name": "Python 3 (ipykernel)",
   "language": "python",
   "name": "python3"
  },
  "language_info": {
   "codemirror_mode": {
    "name": "ipython",
    "version": 3
   },
   "file_extension": ".py",
   "mimetype": "text/x-python",
   "name": "python",
   "nbconvert_exporter": "python",
   "pygments_lexer": "ipython3",
   "version": "3.9.7"
  }
 },
 "nbformat": 4,
 "nbformat_minor": 5
}
